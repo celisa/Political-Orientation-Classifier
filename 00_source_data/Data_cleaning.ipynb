{
 "cells": [
  {
   "cell_type": "code",
   "execution_count": 1,
   "metadata": {},
   "outputs": [],
   "source": [
    "import pandas as pd\n",
    "import numpy as np\n",
    "from nltk.corpus import stopwords\n",
    "import warnings\n",
    "import nltk\n",
    "import matplotlib.pyplot as plt\n",
    "import matplotlib.cm as cm\n",
    "import re\n",
    "import html\n",
    "from nltk.corpus import stopwords\n",
    "from nltk.tokenize import word_tokenize\n"
   ]
  },
  {
   "cell_type": "code",
   "execution_count": 2,
   "metadata": {},
   "outputs": [],
   "source": [
    "train_data =pd.read_parquet('train-00000-of-00001.parquet')\n",
    "test_data =pd.read_parquet('test-00000-of-00001.parquet')\n"
   ]
  },
  {
   "cell_type": "code",
   "execution_count": 3,
   "metadata": {},
   "outputs": [
    {
     "data": {
      "text/html": [
       "<div>\n",
       "<style scoped>\n",
       "    .dataframe tbody tr th:only-of-type {\n",
       "        vertical-align: middle;\n",
       "    }\n",
       "\n",
       "    .dataframe tbody tr th {\n",
       "        vertical-align: top;\n",
       "    }\n",
       "\n",
       "    .dataframe thead th {\n",
       "        text-align: right;\n",
       "    }\n",
       "</style>\n",
       "<table border=\"1\" class=\"dataframe\">\n",
       "  <thead>\n",
       "    <tr style=\"text-align: right;\">\n",
       "      <th></th>\n",
       "      <th>date</th>\n",
       "      <th>id</th>\n",
       "      <th>username</th>\n",
       "      <th>text</th>\n",
       "      <th>party</th>\n",
       "      <th>labels</th>\n",
       "    </tr>\n",
       "  </thead>\n",
       "  <tbody>\n",
       "    <tr>\n",
       "      <th>0</th>\n",
       "      <td>2021-10-13 19:47:44</td>\n",
       "      <td>1448374915636383745</td>\n",
       "      <td>SenatorHassan</td>\n",
       "      <td>Happy th birthday to the @USNavy! The strength...</td>\n",
       "      <td>Democrat</td>\n",
       "      <td>1</td>\n",
       "    </tr>\n",
       "    <tr>\n",
       "      <th>1</th>\n",
       "      <td>2021-06-30 14:53:13</td>\n",
       "      <td>1410250073003462656</td>\n",
       "      <td>SenatorMenendez</td>\n",
       "      <td>The greatest generation's investment in infras...</td>\n",
       "      <td>Democrat</td>\n",
       "      <td>1</td>\n",
       "    </tr>\n",
       "    <tr>\n",
       "      <th>2</th>\n",
       "      <td>2021-08-08 01:11:29</td>\n",
       "      <td>1424176405881966599</td>\n",
       "      <td>SenBillCassidy</td>\n",
       "      <td>Thanks to @SenTedCruz and  @SenatorWarnock, th...</td>\n",
       "      <td>Republican</td>\n",
       "      <td>0</td>\n",
       "    </tr>\n",
       "    <tr>\n",
       "      <th>3</th>\n",
       "      <td>2021-04-14 14:02:49</td>\n",
       "      <td>1382333523567185921</td>\n",
       "      <td>SenBlumenthal</td>\n",
       "      <td>/ To get lasting change we cant just lock up t...</td>\n",
       "      <td>Democrat</td>\n",
       "      <td>1</td>\n",
       "    </tr>\n",
       "    <tr>\n",
       "      <th>4</th>\n",
       "      <td>2021-12-11 16:06:38</td>\n",
       "      <td>1469700160934621188</td>\n",
       "      <td>SenatorBraun</td>\n",
       "      <td>Today were celebrating years of the Hoosier st...</td>\n",
       "      <td>Republican</td>\n",
       "      <td>0</td>\n",
       "    </tr>\n",
       "    <tr>\n",
       "      <th>5</th>\n",
       "      <td>2021-05-11 17:18:50</td>\n",
       "      <td>1392167324401143812</td>\n",
       "      <td>SenJeffMerkley</td>\n",
       "      <td>The #ForthePeopleAct includes reforms that are...</td>\n",
       "      <td>Democrat</td>\n",
       "      <td>1</td>\n",
       "    </tr>\n",
       "    <tr>\n",
       "      <th>6</th>\n",
       "      <td>2021-08-10 16:22:55</td>\n",
       "      <td>1425130548620578816</td>\n",
       "      <td>SenBlumenthal</td>\n",
       "      <td>Todays strong, bipartisan vote is just the beg...</td>\n",
       "      <td>Democrat</td>\n",
       "      <td>1</td>\n",
       "    </tr>\n",
       "    <tr>\n",
       "      <th>7</th>\n",
       "      <td>2021-08-12 01:13:26</td>\n",
       "      <td>1425626448518385664</td>\n",
       "      <td>SenatorHagerty</td>\n",
       "      <td>Supporting crime victims requires holding crim...</td>\n",
       "      <td>Republican</td>\n",
       "      <td>0</td>\n",
       "    </tr>\n",
       "    <tr>\n",
       "      <th>8</th>\n",
       "      <td>2021-12-11 16:27:51</td>\n",
       "      <td>1469705498224209928</td>\n",
       "      <td>SenBillCassidy</td>\n",
       "      <td>We in Louisiana know how natural disasters cha...</td>\n",
       "      <td>Republican</td>\n",
       "      <td>0</td>\n",
       "    </tr>\n",
       "    <tr>\n",
       "      <th>9</th>\n",
       "      <td>2021-01-20 13:55:04</td>\n",
       "      <td>1351890994220957698</td>\n",
       "      <td>CoryBooker</td>\n",
       "      <td>Today we start anew.</td>\n",
       "      <td>Democrat</td>\n",
       "      <td>1</td>\n",
       "    </tr>\n",
       "  </tbody>\n",
       "</table>\n",
       "</div>"
      ],
      "text/plain": [
       "                  date                   id         username  \\\n",
       "0  2021-10-13 19:47:44  1448374915636383745    SenatorHassan   \n",
       "1  2021-06-30 14:53:13  1410250073003462656  SenatorMenendez   \n",
       "2  2021-08-08 01:11:29  1424176405881966599   SenBillCassidy   \n",
       "3  2021-04-14 14:02:49  1382333523567185921    SenBlumenthal   \n",
       "4  2021-12-11 16:06:38  1469700160934621188     SenatorBraun   \n",
       "5  2021-05-11 17:18:50  1392167324401143812   SenJeffMerkley   \n",
       "6  2021-08-10 16:22:55  1425130548620578816    SenBlumenthal   \n",
       "7  2021-08-12 01:13:26  1425626448518385664   SenatorHagerty   \n",
       "8  2021-12-11 16:27:51  1469705498224209928   SenBillCassidy   \n",
       "9  2021-01-20 13:55:04  1351890994220957698       CoryBooker   \n",
       "\n",
       "                                                text       party  labels  \n",
       "0  Happy th birthday to the @USNavy! The strength...    Democrat       1  \n",
       "1  The greatest generation's investment in infras...    Democrat       1  \n",
       "2  Thanks to @SenTedCruz and  @SenatorWarnock, th...  Republican       0  \n",
       "3  / To get lasting change we cant just lock up t...    Democrat       1  \n",
       "4  Today were celebrating years of the Hoosier st...  Republican       0  \n",
       "5  The #ForthePeopleAct includes reforms that are...    Democrat       1  \n",
       "6  Todays strong, bipartisan vote is just the beg...    Democrat       1  \n",
       "7  Supporting crime victims requires holding crim...  Republican       0  \n",
       "8  We in Louisiana know how natural disasters cha...  Republican       0  \n",
       "9                               Today we start anew.    Democrat       1  "
      ]
     },
     "execution_count": 3,
     "metadata": {},
     "output_type": "execute_result"
    }
   ],
   "source": [
    "test_data.head(10)\n",
    "train_data.head(10)"
   ]
  },
  {
   "cell_type": "code",
   "execution_count": 4,
   "metadata": {},
   "outputs": [
    {
     "data": {
      "text/plain": [
       "Index(['date', 'id', 'username', 'text', 'party', 'labels'], dtype='object')"
      ]
     },
     "execution_count": 4,
     "metadata": {},
     "output_type": "execute_result"
    }
   ],
   "source": [
    "test_data.columns\n",
    "train_data.columns\n",
    "\n"
   ]
  },
  {
   "cell_type": "code",
   "execution_count": 5,
   "metadata": {},
   "outputs": [
    {
     "data": {
      "text/plain": [
       "0        Happy th birthday to the @USNavy! The strength...\n",
       "1        The greatest generation's investment in infras...\n",
       "2        Thanks to @SenTedCruz and  @SenatorWarnock, th...\n",
       "3        / To get lasting change we cant just lock up t...\n",
       "4        Today were celebrating years of the Hoosier st...\n",
       "                               ...                        \n",
       "79749    You spelled \"voter suppression\" wrong. https:/...\n",
       "79750    .@VP: This is no laughing matter. Your policie...\n",
       "79751    In the wake of last weeks attack, we are etern...\n",
       "79752    This is the right thing to do. There needs to ...\n",
       "79753    Building on the Trump Admins Jan '21 determina...\n",
       "Name: text, Length: 79754, dtype: object"
      ]
     },
     "execution_count": 5,
     "metadata": {},
     "output_type": "execute_result"
    }
   ],
   "source": [
    "test_data[\"text\"]\n",
    "train_data[\"text\"]"
   ]
  },
  {
   "cell_type": "code",
   "execution_count": 6,
   "metadata": {},
   "outputs": [
    {
     "data": {
      "image/png": "[encoded data removed]",
      "text/plain": [
       "<Figure size 640x480 with 1 Axes>"
      ]
     },
     "metadata": {},
     "output_type": "display_data"
    }
   ],
   "source": [
    "#checking for balance in the train data\n",
    "plt.hist(train_data[\"labels\"], bins=10, color='blue', edgecolor='black', alpha=0.5)\n",
    "plt.title('Histogram of Labels')\n",
    "plt.xlabel('Label')\n",
    "plt.ylabel('Count')\n",
    "plt.show()"
   ]
  },
  {
   "cell_type": "code",
   "execution_count": 7,
   "metadata": {},
   "outputs": [
    {
     "data": {
      "text/plain": [
       "date        0\n",
       "id          0\n",
       "username    0\n",
       "text        0\n",
       "party       0\n",
       "labels      0\n",
       "dtype: int64"
      ]
     },
     "execution_count": 7,
     "metadata": {},
     "output_type": "execute_result"
    }
   ],
   "source": [
    "#check for null values\n",
    "train_data.isnull().sum()\n",
    "test_data.isnull().sum()\n"
   ]
  },
  {
   "cell_type": "code",
   "execution_count": 8,
   "metadata": {},
   "outputs": [],
   "source": [
    "\n",
    "\n",
    "def clean_data(tweets_df, remove_stopwords=False):\n",
    "    \"\"\"Clean the data by removing URLs, converting to lowercase and removing @s and #s from the tweet\"\"\"\n",
    "\n",
    "    warnings.filterwarnings(\"ignore\")\n",
    "\n",
    "    #replace nan with empty string\n",
    "    tweets_df[\"text\"] = tweets_df[\"text\"].fillna('')\n",
    "\n",
    "    # remove all URLs from the text\n",
    "    tweets_df[\"text\"] = tweets_df[\"text\"].str.replace(r\"http\\S+\", \"\")\n",
    "    tweets_df[\"text\"] = tweets_df[\"text\"].str.replace(r\"www.\\S+\", \"\")\n",
    "\n",
    "    # remove all mentions from the text \n",
    "    tweets_df[\"text\"] = tweets_df[\"text\"].str.replace(r\"@\\S+\", \"\") \n",
    "\n",
    "    # remove all hashtags from the text\n",
    "    tweets_df[\"text\"] = tweets_df[\"text\"].str.replace(r\"#\", \"\")\n",
    "\n",
    "    # lowercase all text\n",
    "    tweets_df[\"text\"] = tweets_df[\"text\"].str.lower()\n",
    "\n",
    "    # #remove punctuations\n",
    "    \n",
    "    # tweets_df[\"text\"] = re.sub('[()!?]', ' ', tweets_df[\"text\"])\n",
    "    # tweets_df[\"text\"] = re.sub('\\[.*?\\]',' ', tweets_df[\"text\"])\n",
    "    \n",
    "    # #filtering non alphanumeric characters\n",
    "    # tweets_df[\"text\"] = re.sub(\"[^a-z0-9]\",\" \", tweets_df[\"text\"])\n",
    "    \n",
    "\n",
    "    #remove html tags\n",
    "\n",
    "    #remove \n",
    "\n",
    "    if remove_stopwords:\n",
    "        # remove stopwords\n",
    "        nltk.download(\"stopwords\")\n",
    "        stop_words = set(stopwords.words(\"english\"))\n",
    "        tweets_df[\"text\"] = tweets_df[\"text\"].apply(\n",
    "            lambda x: \" \".join([word for word in x.split() if word not in stop_words])\n",
    "        )\n",
    "\n",
    "    tweets_df[\"text\"] = tweets_df[\"text\"].str.split()\n",
    "   \n",
    "\n",
    "\n",
    "    \n",
    "    return tweets_df\n"
   ]
  },
  {
   "cell_type": "code",
   "execution_count": 9,
   "metadata": {},
   "outputs": [
    {
     "name": "stderr",
     "output_type": "stream",
     "text": [
      "[nltk_data] Downloading package stopwords to\n",
      "[nltk_data]     /home/codespace/nltk_data...\n",
      "[nltk_data]   Unzipping corpora/stopwords.zip.\n",
      "[nltk_data] Downloading package stopwords to\n",
      "[nltk_data]     /home/codespace/nltk_data...\n",
      "[nltk_data]   Package stopwords is already up-to-date!\n"
     ]
    }
   ],
   "source": [
    "cleaned_train = clean_data(train_data,remove_stopwords=True)\n",
    "cleaned_test = clean_data(test_data,remove_stopwords=True)\n"
   ]
  },
  {
   "cell_type": "code",
   "execution_count": 10,
   "metadata": {},
   "outputs": [
    {
     "data": {
      "text/html": [
       "<div>\n",
       "<style scoped>\n",
       "    .dataframe tbody tr th:only-of-type {\n",
       "        vertical-align: middle;\n",
       "    }\n",
       "\n",
       "    .dataframe tbody tr th {\n",
       "        vertical-align: top;\n",
       "    }\n",
       "\n",
       "    .dataframe thead th {\n",
       "        text-align: right;\n",
       "    }\n",
       "</style>\n",
       "<table border=\"1\" class=\"dataframe\">\n",
       "  <thead>\n",
       "    <tr style=\"text-align: right;\">\n",
       "      <th></th>\n",
       "      <th>date</th>\n",
       "      <th>id</th>\n",
       "      <th>username</th>\n",
       "      <th>text</th>\n",
       "      <th>party</th>\n",
       "      <th>labels</th>\n",
       "    </tr>\n",
       "  </thead>\n",
       "  <tbody>\n",
       "    <tr>\n",
       "      <th>0</th>\n",
       "      <td>2021-12-06 22:17:24</td>\n",
       "      <td>1467981527250358275</td>\n",
       "      <td>SenSchumer</td>\n",
       "      <td>[american, families, need, help, affording, th...</td>\n",
       "      <td>Democrat</td>\n",
       "      <td>1</td>\n",
       "    </tr>\n",
       "    <tr>\n",
       "      <th>1</th>\n",
       "      <td>2021-11-13 17:44:35</td>\n",
       "      <td>1459577948017766405</td>\n",
       "      <td>SenJeffMerkley</td>\n",
       "      <td>[introduced, bill, make, sure, public, experie...</td>\n",
       "      <td>Democrat</td>\n",
       "      <td>1</td>\n",
       "    </tr>\n",
       "    <tr>\n",
       "      <th>2</th>\n",
       "      <td>2021-05-26 22:45:14</td>\n",
       "      <td>1397685285081788417</td>\n",
       "      <td>SenRickScott</td>\n",
       "      <td>[., done, nothing, hold, accountable, ensure, ...</td>\n",
       "      <td>Republican</td>\n",
       "      <td>0</td>\n",
       "    </tr>\n",
       "    <tr>\n",
       "      <th>3</th>\n",
       "      <td>2021-07-20 17:03:54</td>\n",
       "      <td>1417530719295918081</td>\n",
       "      <td>MarshaBlackburn</td>\n",
       "      <td>[fire, fauci.]</td>\n",
       "      <td>Republican</td>\n",
       "      <td>0</td>\n",
       "    </tr>\n",
       "    <tr>\n",
       "      <th>4</th>\n",
       "      <td>2021-06-04 21:13:48</td>\n",
       "      <td>1400923765194821639</td>\n",
       "      <td>SenatorDurbin</td>\n",
       "      <td>[chair, senate, judiciary, committee,, made, g...</td>\n",
       "      <td>Democrat</td>\n",
       "      <td>1</td>\n",
       "    </tr>\n",
       "    <tr>\n",
       "      <th>...</th>\n",
       "      <td>...</td>\n",
       "      <td>...</td>\n",
       "      <td>...</td>\n",
       "      <td>...</td>\n",
       "      <td>...</td>\n",
       "      <td>...</td>\n",
       "    </tr>\n",
       "    <tr>\n",
       "      <th>19934</th>\n",
       "      <td>2021-11-09 18:39:29</td>\n",
       "      <td>1458142213574049797</td>\n",
       "      <td>SenatorWicker</td>\n",
       "      <td>[world, dangerous, place, ever, lifetime., bid...</td>\n",
       "      <td>Republican</td>\n",
       "      <td>0</td>\n",
       "    </tr>\n",
       "    <tr>\n",
       "      <th>19935</th>\n",
       "      <td>2021-04-02 15:54:50</td>\n",
       "      <td>1378013060816855041</td>\n",
       "      <td>SenRickScott</td>\n",
       "      <td>[great, news, weekend,, florida, residents, vi...</td>\n",
       "      <td>Republican</td>\n",
       "      <td>0</td>\n",
       "    </tr>\n",
       "    <tr>\n",
       "      <th>19936</th>\n",
       "      <td>2021-10-14 15:39:01</td>\n",
       "      <td>1448674715711807497</td>\n",
       "      <td>RogerMarshallMD</td>\n",
       "      <td>[driving, kansas,, cant, help, notice, joe, bi...</td>\n",
       "      <td>Republican</td>\n",
       "      <td>0</td>\n",
       "    </tr>\n",
       "    <tr>\n",
       "      <th>19937</th>\n",
       "      <td>2021-06-01 22:37:46</td>\n",
       "      <td>1399857734447677441</td>\n",
       "      <td>SenMarkey</td>\n",
       "      <td>[stand, workers, pavement, coffee, congratulat...</td>\n",
       "      <td>Democrat</td>\n",
       "      <td>1</td>\n",
       "    </tr>\n",
       "    <tr>\n",
       "      <th>19938</th>\n",
       "      <td>2021-12-16 15:21:41</td>\n",
       "      <td>1471500788417531914</td>\n",
       "      <td>MarshaBlackburn</td>\n",
       "      <td>[multiple, people, new, york, arrested, week, ...</td>\n",
       "      <td>Republican</td>\n",
       "      <td>0</td>\n",
       "    </tr>\n",
       "  </tbody>\n",
       "</table>\n",
       "<p>19939 rows × 6 columns</p>\n",
       "</div>"
      ],
      "text/plain": [
       "                      date                   id         username  \\\n",
       "0      2021-12-06 22:17:24  1467981527250358275       SenSchumer   \n",
       "1      2021-11-13 17:44:35  1459577948017766405   SenJeffMerkley   \n",
       "2      2021-05-26 22:45:14  1397685285081788417     SenRickScott   \n",
       "3      2021-07-20 17:03:54  1417530719295918081  MarshaBlackburn   \n",
       "4      2021-06-04 21:13:48  1400923765194821639    SenatorDurbin   \n",
       "...                    ...                  ...              ...   \n",
       "19934  2021-11-09 18:39:29  1458142213574049797    SenatorWicker   \n",
       "19935  2021-04-02 15:54:50  1378013060816855041     SenRickScott   \n",
       "19936  2021-10-14 15:39:01  1448674715711807497  RogerMarshallMD   \n",
       "19937  2021-06-01 22:37:46  1399857734447677441        SenMarkey   \n",
       "19938  2021-12-16 15:21:41  1471500788417531914  MarshaBlackburn   \n",
       "\n",
       "                                                    text       party  labels  \n",
       "0      [american, families, need, help, affording, th...    Democrat       1  \n",
       "1      [introduced, bill, make, sure, public, experie...    Democrat       1  \n",
       "2      [., done, nothing, hold, accountable, ensure, ...  Republican       0  \n",
       "3                                         [fire, fauci.]  Republican       0  \n",
       "4      [chair, senate, judiciary, committee,, made, g...    Democrat       1  \n",
       "...                                                  ...         ...     ...  \n",
       "19934  [world, dangerous, place, ever, lifetime., bid...  Republican       0  \n",
       "19935  [great, news, weekend,, florida, residents, vi...  Republican       0  \n",
       "19936  [driving, kansas,, cant, help, notice, joe, bi...  Republican       0  \n",
       "19937  [stand, workers, pavement, coffee, congratulat...    Democrat       1  \n",
       "19938  [multiple, people, new, york, arrested, week, ...  Republican       0  \n",
       "\n",
       "[19939 rows x 6 columns]"
      ]
     },
     "execution_count": 10,
     "metadata": {},
     "output_type": "execute_result"
    }
   ],
   "source": [
    "cleaned_train\n",
    "cleaned_test"
   ]
  },
  {
   "cell_type": "code",
   "execution_count": 11,
   "metadata": {},
   "outputs": [],
   "source": [
    "cleaned_train=cleaned_train.drop(['date','id','username'], axis=1)\n",
    "\n"
   ]
  },
  {
   "cell_type": "code",
   "execution_count": 12,
   "metadata": {},
   "outputs": [],
   "source": [
    "#cleaned_train[\"text\"]=cleaned_train[\"text\"].str.split()"
   ]
  },
  {
   "cell_type": "code",
   "execution_count": 13,
   "metadata": {},
   "outputs": [
    {
     "name": "stdout",
     "output_type": "stream",
     "text": [
      "['happy', 'th', 'birthday', 'strength,', 'dedication,', 'skill', 'sailors', 'including', 'portsmouth', 'naval', 'shipyard', 'help', 'keep', 'country', 'safe,', 'secure,', 'free.', 'today', 'recognize', 'celebrate', 'incredible', 'service.', '246navybirthday']\n"
     ]
    }
   ],
   "source": [
    "print(cleaned_train[\"text\"][0])"
   ]
  },
  {
   "cell_type": "code",
   "execution_count": 11,
   "metadata": {},
   "outputs": [],
   "source": [
    "cleaned_train.to_csv('cleaned_train.csv', index=False)\n",
    "cleaned_test.to_csv('cleaned_test.csv', index=False)"
   ]
  }
 ],
 "metadata": {
  "kernelspec": {
   "display_name": "Python 3",
   "language": "python",
   "name": "python3"
  },
  "language_info": {
   "codemirror_mode": {
    "name": "ipython",
    "version": 3
   },
   "file_extension": ".py",
   "mimetype": "text/x-python",
   "name": "python",
   "nbconvert_exporter": "python",
   "pygments_lexer": "ipython3",
   "version": "3.10.4"
  },
  "orig_nbformat": 4,
  "vscode": {
   "interpreter": {
    "hash": "3ad933181bd8a04b432d3370b9dc3b0662ad032c4dfaa4e4f1596c548f763858"
   }
  }
 },
 "nbformat": 4,
 "nbformat_minor": 2
}
